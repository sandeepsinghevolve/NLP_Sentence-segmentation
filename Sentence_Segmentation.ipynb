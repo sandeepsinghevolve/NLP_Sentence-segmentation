{
  "cells": [
    {
      "cell_type": "code",
      "execution_count": null,
      "metadata": {
        "colab": {},
        "colab_type": "code",
        "id": "ZT5ddLO158EA"
      },
      "outputs": [],
      "source": [
        "import spacy"
      ]
    },
    {
      "cell_type": "code",
      "execution_count": null,
      "metadata": {
        "colab": {},
        "colab_type": "code",
        "id": "pM2PYvvF_Tgu"
      },
      "outputs": [],
      "source": [
        "nlp = spacy.load('en_core_web_sm')"
      ]
    },
    {
      "cell_type": "code",
      "execution_count": null,
      "metadata": {
        "colab": {},
        "colab_type": "code",
        "id": "7UT6wd4G_TrF"
      },
      "outputs": [],
      "source": [
        "doc = nlp(u\"This is the first sentence. This is the second sentence. This page is third sentence\")"
      ]
    },
    {
      "cell_type": "code",
      "execution_count": null,
      "metadata": {
        "colab": {
          "base_uri": "https://localhost:8080/",
          "height": 70
        },
        "colab_type": "code",
        "id": "HLe4lcvo_Tvj",
        "outputId": "0c7131de-2f85-4a73-ec4f-0764e6a9eebe"
      },
      "outputs": [
        {
          "name": "stdout",
          "output_type": "stream",
          "text": [
            "This is the first sentence.\n",
            "This is the second sentence.\n",
            "This page is third sentence\n"
          ]
        }
      ],
      "source": [
        "for sent in doc.sents:\n",
        "  print(sent)"
      ]
    },
    {
      "cell_type": "code",
      "execution_count": null,
      "metadata": {
        "colab": {
          "base_uri": "https://localhost:8080/",
          "height": 70
        },
        "colab_type": "code",
        "id": "Z-5JAg_i_Tpl",
        "outputId": "a3110f8e-315c-4aa0-e070-14bbd96f3849"
      },
      "outputs": [
        {
          "data": {
            "text/plain": [
              "[This is the first sentence.,\n",
              " This is the second sentence.,\n",
              " This page is third sentence]"
            ]
          },
          "execution_count": 5,
          "metadata": {
            "tags": []
          },
          "output_type": "execute_result"
        }
      ],
      "source": [
        "list(doc.sents)"
      ]
    },
    {
      "cell_type": "code",
      "execution_count": null,
      "metadata": {
        "colab": {
          "base_uri": "https://localhost:8080/",
          "height": 34
        },
        "colab_type": "code",
        "id": "njoiOcC8_Tlr",
        "outputId": "8e58b566-b37d-41fb-ab83-c369afc03cd0"
      },
      "outputs": [
        {
          "data": {
            "text/plain": [
              "This is the first sentence."
            ]
          },
          "execution_count": 6,
          "metadata": {
            "tags": []
          },
          "output_type": "execute_result"
        }
      ],
      "source": [
        "list(doc.sents)[0]"
      ]
    },
    {
      "cell_type": "code",
      "execution_count": null,
      "metadata": {
        "colab": {
          "base_uri": "https://localhost:8080/",
          "height": 34
        },
        "colab_type": "code",
        "id": "l3huFV9H_TkQ",
        "outputId": "e97f7df0-cdf5-4c6c-cef1-d4e3d14df8b3"
      },
      "outputs": [
        {
          "data": {
            "text/plain": [
              "spacy.tokens.span.Span"
            ]
          },
          "execution_count": 8,
          "metadata": {
            "tags": []
          },
          "output_type": "execute_result"
        }
      ],
      "source": [
        "type(list(doc.sents)[0])"
      ]
    },
    {
      "cell_type": "code",
      "execution_count": null,
      "metadata": {
        "colab": {},
        "colab_type": "code",
        "id": "jOa4kGZ2APmn"
      },
      "outputs": [],
      "source": [
        "doc = nlp(u'\"Management is doing the right thing; leadershio is doing thje right thing. -Peter Drucker\"')"
      ]
    },
    {
      "cell_type": "code",
      "execution_count": null,
      "metadata": {
        "colab": {
          "base_uri": "https://localhost:8080/",
          "height": 176
        },
        "colab_type": "code",
        "id": "BS_CEMeAAPuu",
        "outputId": "0926e98e-42f2-4bcb-e755-12bc5315ad84"
      },
      "outputs": [
        {
          "name": "stdout",
          "output_type": "stream",
          "text": [
            "\"\n",
            "\n",
            "\n",
            "Management is doing the right thing; leadershio is doing thje right thing.\n",
            "\n",
            "\n",
            "-Peter Drucker\"\n",
            "\n",
            "\n"
          ]
        }
      ],
      "source": [
        "for sent in doc.sents:\n",
        "  print(sent)\n",
        "  print('\\n')"
      ]
    },
    {
      "cell_type": "code",
      "execution_count": null,
      "metadata": {
        "colab": {},
        "colab_type": "code",
        "id": "SuHHjXPdAP34"
      },
      "outputs": [],
      "source": [
        "def set_custom_boundraies(doc):\n",
        "  for token in doc:\n",
        "    print(token.i)\n",
        "    print(token)"
      ]
    },
    {
      "cell_type": "code",
      "execution_count": null,
      "metadata": {
        "colab": {
          "base_uri": "https://localhost:8080/",
          "height": 656
        },
        "colab_type": "code",
        "id": "bxCq4af1AQAT",
        "outputId": "89f4f0f3-e931-4056-99bb-598ee446206b"
      },
      "outputs": [
        {
          "name": "stdout",
          "output_type": "stream",
          "text": [
            "0\n",
            "\"\n",
            "1\n",
            "Management\n",
            "2\n",
            "is\n",
            "3\n",
            "doing\n",
            "4\n",
            "the\n",
            "5\n",
            "right\n",
            "6\n",
            "thing\n",
            "7\n",
            ";\n",
            "8\n",
            "leadershio\n",
            "9\n",
            "is\n",
            "10\n",
            "doing\n",
            "11\n",
            "thje\n",
            "12\n",
            "right\n",
            "13\n",
            "thing\n",
            "14\n",
            ".\n",
            "15\n",
            "-Peter\n",
            "16\n",
            "Drucker\n",
            "17\n",
            "\"\n"
          ]
        }
      ],
      "source": [
        "set_custom_boundraies(doc)"
      ]
    },
    {
      "cell_type": "code",
      "execution_count": null,
      "metadata": {
        "colab": {},
        "colab_type": "code",
        "id": "hdsCIfQtAQFj"
      },
      "outputs": [],
      "source": [
        "def set_custom_boundraies3(doc):\n",
        "  for token in doc[:-1]:\n",
        "    if token.text==';':\n",
        "      doc[token.i+1].is_sent_start = True\n",
        "    return doc"
      ]
    },
    {
      "cell_type": "code",
      "execution_count": null,
      "metadata": {
        "colab": {},
        "colab_type": "code",
        "id": "vIZJpZpUAP-U"
      },
      "outputs": [],
      "source": [
        "nlp.add_pipe(set_custom_boundraies3, before='parser')"
      ]
    },
    {
      "cell_type": "code",
      "execution_count": null,
      "metadata": {
        "colab": {
          "base_uri": "https://localhost:8080/",
          "height": 123
        },
        "colab_type": "code",
        "id": "YX_b9LmQ_Tei",
        "outputId": "1273d125-06f1-4511-afa8-c41dbdb6bcb0"
      },
      "outputs": [
        {
          "data": {
            "text/plain": [
              "['tagger',\n",
              " 'set_custom_boundraies2',\n",
              " 'set_custom_boundraies',\n",
              " 'set_custom_boundraies3',\n",
              " 'parser',\n",
              " 'ner']"
            ]
          },
          "execution_count": 46,
          "metadata": {
            "tags": []
          },
          "output_type": "execute_result"
        }
      ],
      "source": [
        "nlp.pipe_names"
      ]
    },
    {
      "cell_type": "code",
      "execution_count": null,
      "metadata": {
        "colab": {},
        "colab_type": "code",
        "id": "-bAK-3JXC8Z3"
      },
      "outputs": [],
      "source": [
        "doc = nlp(u'\"Management is doing the right thing;leadership is doing the right thing.\" -Peter Drucker')"
      ]
    },
    {
      "cell_type": "code",
      "execution_count": null,
      "metadata": {
        "colab": {
          "base_uri": "https://localhost:8080/",
          "height": 70
        },
        "colab_type": "code",
        "id": "TIKJaKRZC8kN",
        "outputId": "1d59c51d-ced0-494a-cac0-9efe686515c4"
      },
      "outputs": [
        {
          "name": "stdout",
          "output_type": "stream",
          "text": [
            "\"\n",
            "Management is doing the right thing;leadership is doing the right thing.\n",
            "\" -Peter Drucker\n"
          ]
        }
      ],
      "source": [
        "for sent in doc.sents:\n",
        "  print(sent)"
      ]
    },
    {
      "cell_type": "code",
      "execution_count": null,
      "metadata": {
        "colab": {},
        "colab_type": "code",
        "id": "IiBhemNbC8ud"
      },
      "outputs": [],
      "source": [
        "nlp = spacy.load('en_core_web_sm')"
      ]
    },
    {
      "cell_type": "code",
      "execution_count": null,
      "metadata": {
        "colab": {},
        "colab_type": "code",
        "id": "dyzb5GIiC8tW"
      },
      "outputs": [],
      "source": [
        "mystring = (u\"This is a sentence. This is another.\\n\\nThis is a \\nthird sentence.\")"
      ]
    },
    {
      "cell_type": "code",
      "execution_count": null,
      "metadata": {
        "colab": {
          "base_uri": "https://localhost:8080/",
          "height": 87
        },
        "colab_type": "code",
        "id": "Xj9C8NgxC8sH",
        "outputId": "2de387fa-241d-4cb7-ffb8-0f6c0dd15b9f"
      },
      "outputs": [
        {
          "name": "stdout",
          "output_type": "stream",
          "text": [
            "This is a sentence. This is another.\n",
            "\n",
            "This is a \n",
            "third sentence.\n"
          ]
        }
      ],
      "source": [
        "print(mystring)"
      ]
    },
    {
      "cell_type": "code",
      "execution_count": null,
      "metadata": {
        "colab": {},
        "colab_type": "code",
        "id": "QIIkVtjUC8p6"
      },
      "outputs": [],
      "source": [
        "doc = nlp(mystring)"
      ]
    },
    {
      "cell_type": "code",
      "execution_count": null,
      "metadata": {
        "colab": {
          "base_uri": "https://localhost:8080/",
          "height": 123
        },
        "colab_type": "code",
        "id": "X-_An2OfC8i8",
        "outputId": "e45a1853-a73c-43c4-f729-ab2fb4600d19"
      },
      "outputs": [
        {
          "name": "stdout",
          "output_type": "stream",
          "text": [
            "This is a sentence.\n",
            "This is another.\n",
            "\n",
            "\n",
            "This is a \n",
            "third sentence.\n"
          ]
        }
      ],
      "source": [
        "for sentence in doc.sents:\n",
        "  print(sentence)"
      ]
    },
    {
      "cell_type": "code",
      "execution_count": null,
      "metadata": {
        "colab": {},
        "colab_type": "code",
        "id": "lpDQKLB8C8hE"
      },
      "outputs": [],
      "source": [
        "from spacy.pipeline import SentenceSegmenter"
      ]
    },
    {
      "cell_type": "code",
      "execution_count": null,
      "metadata": {
        "colab": {},
        "colab_type": "code",
        "id": "l7tGS6a3C8fb"
      },
      "outputs": [],
      "source": [
        "def split_on_newlines(doc):\n",
        "  start = 0\n",
        "  seen_newline = False\n",
        "\n",
        "  for word in doc:\n",
        "    if seen_newline:\n",
        "      yield doc[start:word.i]\n",
        "      start = word.i\n",
        "      seen_newline = False\n",
        "    elif word.text.startswith('\\n'):\n",
        "        seen_newline = True\n",
        "  yield doc[start:]\n"
      ]
    },
    {
      "cell_type": "code",
      "execution_count": null,
      "metadata": {
        "colab": {},
        "colab_type": "code",
        "id": "IoNhCCq2G0mm"
      },
      "outputs": [],
      "source": [
        "sbd = SentenceSegmenter(nlp.vocab, strategy=split_on_newlines)"
      ]
    },
    {
      "cell_type": "code",
      "execution_count": null,
      "metadata": {
        "colab": {},
        "colab_type": "code",
        "id": "KcKoVMDlG0zM"
      },
      "outputs": [],
      "source": [
        "nlp.add_pipe(sbd)"
      ]
    },
    {
      "cell_type": "code",
      "execution_count": null,
      "metadata": {
        "colab": {},
        "colab_type": "code",
        "id": "aW2odHz6G0-9"
      },
      "outputs": [],
      "source": [
        "doc = nlp(mystring)"
      ]
    },
    {
      "cell_type": "code",
      "execution_count": null,
      "metadata": {
        "colab": {
          "base_uri": "https://localhost:8080/",
          "height": 123
        },
        "colab_type": "code",
        "id": "MwWcwP79HWDX",
        "outputId": "d5b8e48e-d53d-44f1-ad23-759e19c82c90"
      },
      "outputs": [
        {
          "name": "stdout",
          "output_type": "stream",
          "text": [
            "This is a sentence. This is another.\n",
            "\n",
            "\n",
            "This is a \n",
            "\n",
            "third sentence.\n"
          ]
        }
      ],
      "source": [
        "for sentence in doc.sents:\n",
        "  print(sentence)"
      ]
    },
    {
      "cell_type": "code",
      "execution_count": null,
      "metadata": {
        "colab": {},
        "colab_type": "code",
        "id": "3Yu9tRZDHWWt"
      },
      "outputs": [],
      "source": []
    }
  ],
  "metadata": {
    "colab": {
      "name": "Sentence Segmentation.ipynb",
      "provenance": []
    },
    "kernelspec": {
      "display_name": "Python 3",
      "name": "python3"
    }
  },
  "nbformat": 4,
  "nbformat_minor": 0
}
